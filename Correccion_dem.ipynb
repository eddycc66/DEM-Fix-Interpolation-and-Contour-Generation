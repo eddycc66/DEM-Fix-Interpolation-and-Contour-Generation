{
  "nbformat": 4,
  "nbformat_minor": 0,
  "metadata": {
    "colab": {
      "provenance": [],
      "gpuType": "T4",
      "authorship_tag": "ABX9TyOuSVUNAeOZ4vqbSV4qNUiG",
      "include_colab_link": true
    },
    "kernelspec": {
      "name": "python3",
      "display_name": "Python 3"
    },
    "language_info": {
      "name": "python"
    },
    "accelerator": "GPU"
  },
  "cells": [
    {
      "cell_type": "markdown",
      "metadata": {
        "id": "view-in-github",
        "colab_type": "text"
      },
      "source": [
        "<a href=\"https://colab.research.google.com/github/eddycc66/DEM-Fix-Interpolation-and-Contour-Generation/blob/master/Correccion_dem.ipynb\" target=\"_parent\"><img src=\"https://colab.research.google.com/assets/colab-badge.svg\" alt=\"Open In Colab\"/></a>"
      ]
    },
    {
      "cell_type": "code",
      "execution_count": 1,
      "metadata": {
        "colab": {
          "base_uri": "https://localhost:8080/"
        },
        "id": "6k68QQ8uWaZX",
        "outputId": "14dab7ab-3e09-4961-c4f0-47a8d393cf47"
      },
      "outputs": [
        {
          "output_type": "stream",
          "name": "stdout",
          "text": [
            "Collecting rasterio\n",
            "  Downloading rasterio-1.4.3-cp311-cp311-manylinux_2_17_x86_64.manylinux2014_x86_64.whl.metadata (9.1 kB)\n",
            "Requirement already satisfied: numpy in /usr/local/lib/python3.11/dist-packages (2.0.2)\n",
            "Requirement already satisfied: scipy in /usr/local/lib/python3.11/dist-packages (1.15.3)\n",
            "Collecting affine (from rasterio)\n",
            "  Downloading affine-2.4.0-py3-none-any.whl.metadata (4.0 kB)\n",
            "Requirement already satisfied: attrs in /usr/local/lib/python3.11/dist-packages (from rasterio) (25.3.0)\n",
            "Requirement already satisfied: certifi in /usr/local/lib/python3.11/dist-packages (from rasterio) (2025.4.26)\n",
            "Requirement already satisfied: click>=4.0 in /usr/local/lib/python3.11/dist-packages (from rasterio) (8.1.8)\n",
            "Collecting cligj>=0.5 (from rasterio)\n",
            "  Downloading cligj-0.7.2-py3-none-any.whl.metadata (5.0 kB)\n",
            "Collecting click-plugins (from rasterio)\n",
            "  Downloading click_plugins-1.1.1-py2.py3-none-any.whl.metadata (6.4 kB)\n",
            "Requirement already satisfied: pyparsing in /usr/local/lib/python3.11/dist-packages (from rasterio) (3.2.3)\n",
            "Downloading rasterio-1.4.3-cp311-cp311-manylinux_2_17_x86_64.manylinux2014_x86_64.whl (22.2 MB)\n",
            "\u001b[2K   \u001b[90m━━━━━━━━━━━━━━━━━━━━━━━━━━━━━━━━━━━━━━━━\u001b[0m \u001b[32m22.2/22.2 MB\u001b[0m \u001b[31m100.3 MB/s\u001b[0m eta \u001b[36m0:00:00\u001b[0m\n",
            "\u001b[?25hDownloading cligj-0.7.2-py3-none-any.whl (7.1 kB)\n",
            "Downloading affine-2.4.0-py3-none-any.whl (15 kB)\n",
            "Downloading click_plugins-1.1.1-py2.py3-none-any.whl (7.5 kB)\n",
            "Installing collected packages: cligj, click-plugins, affine, rasterio\n",
            "Successfully installed affine-2.4.0 click-plugins-1.1.1 cligj-0.7.2 rasterio-1.4.3\n"
          ]
        }
      ],
      "source": [
        "!pip install rasterio numpy scipy"
      ]
    },
    {
      "cell_type": "code",
      "source": [
        "!unzip -q dem.zip -d dem"
      ],
      "metadata": {
        "id": "zvAmUUcmWsQr"
      },
      "execution_count": 3,
      "outputs": []
    },
    {
      "cell_type": "code",
      "source": [
        "# Verificar que el DEM fue extraído correctamente\n",
        "import glob\n",
        "dem_files = glob.glob(\"dem/*.tif\")\n",
        "dem_path = dem_files[0]\n",
        "print(f\"Archivo DEM encontrado: {dem_path}\")"
      ],
      "metadata": {
        "colab": {
          "base_uri": "https://localhost:8080/"
        },
        "id": "j6cBbyYEW0by",
        "outputId": "97f1c4d4-00fc-481b-cebe-cbb96aa74d9a"
      },
      "execution_count": 4,
      "outputs": [
        {
          "output_type": "stream",
          "name": "stdout",
          "text": [
            "Archivo DEM encontrado: dem/dem.tif\n"
          ]
        }
      ]
    },
    {
      "cell_type": "code",
      "source": [
        "# Autor M.Sc. Edwin Calle Condori\n",
        "import rasterio\n",
        "import numpy as np\n",
        "from scipy import ndimage\n",
        "import glob\n",
        "\n",
        "# Ruta automática al DEM extraído\n",
        "dem_path = glob.glob(\"dem/*.tif\")[0]\n",
        "output_path = \"dem_corregido_interp.tif\"\n",
        "\n",
        "# Leer el DEM\n",
        "with rasterio.open(dem_path) as src:\n",
        "    profile = src.profile\n",
        "    dem = src.read(1)\n",
        "\n",
        "    # Mostrar valores extremos antes\n",
        "    print(\"Valores originales:\", np.min(dem), \"a\", np.max(dem))\n",
        "\n",
        "    # Definir NoData y actualizar perfil\n",
        "    nodata_value = -9999\n",
        "    profile.update(nodata=nodata_value)\n",
        "\n",
        "    # Crear máscara de valores erróneos (valores muy negativos)\n",
        "    mask = dem < -1000\n",
        "    dem[mask] = np.nan  # Convertir a NaN para interpolación\n",
        "\n",
        "    # Interpolación: rellenar NaN con vecinos válidos\n",
        "    dem_interp = dem.copy()\n",
        "    nan_mask = np.isnan(dem)\n",
        "    dem_interp[nan_mask] = ndimage.generic_filter(dem, np.nanmean, size=5)[nan_mask]\n",
        "\n",
        "# Guardar el DEM corregido e interpolado\n",
        "with rasterio.open(output_path, 'w', **profile) as dst:\n",
        "    dst.write(dem_interp.astype(rasterio.float32), 1)\n",
        "\n",
        "print(\"DEM interpolado guardado como:\", output_path)"
      ],
      "metadata": {
        "colab": {
          "base_uri": "https://localhost:8080/"
        },
        "id": "G-vkMEb_ABNP",
        "outputId": "71c24683-53f7-4fd0-98bf-8b442cf0dc4a"
      },
      "execution_count": 24,
      "outputs": [
        {
          "output_type": "stream",
          "name": "stdout",
          "text": [
            "Valores originales: -11831.721 a 5115.9736\n"
          ]
        },
        {
          "output_type": "stream",
          "name": "stderr",
          "text": [
            "/usr/local/lib/python3.11/dist-packages/scipy/ndimage/_filters.py:1963: RuntimeWarning: Mean of empty slice\n",
            "  _nd_image.generic_filter(input, function, footprint, output, mode,\n"
          ]
        },
        {
          "output_type": "stream",
          "name": "stdout",
          "text": [
            "DEM interpolado guardado como: dem_corregido_interp.tif\n"
          ]
        }
      ]
    }
  ]
}